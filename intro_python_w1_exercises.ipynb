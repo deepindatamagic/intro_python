{
  "nbformat": 4,
  "nbformat_minor": 0,
  "metadata": {
    "colab": {
      "name": "intro_python_w1_exercises.ipynb",
      "provenance": []
    },
    "kernelspec": {
      "name": "python3",
      "display_name": "Python 3"
    },
    "language_info": {
      "name": "python"
    }
  },
  "cells": [
    {
      "cell_type": "markdown",
      "metadata": {
        "id": "TiJpR_JMWmp8"
      },
      "source": [
        "**Prints Hello World**"
      ]
    },
    {
      "cell_type": "code",
      "metadata": {
        "id": "ZvXDbvHSVHq0"
      },
      "source": [
        "# prints hello world\n",
        "print('Hello World')"
      ],
      "execution_count": null,
      "outputs": []
    },
    {
      "cell_type": "code",
      "metadata": {
        "id": "gqtOY9QNXF61"
      },
      "source": [
        "x = 'Hello World'"
      ],
      "execution_count": null,
      "outputs": []
    },
    {
      "cell_type": "code",
      "metadata": {
        "colab": {
          "base_uri": "https://localhost:8080/"
        },
        "id": "N8lykZdoXRUo",
        "outputId": "6d964538-0f06-45bd-820f-9a78f5f16e76"
      },
      "source": [
        "print(x)"
      ],
      "execution_count": null,
      "outputs": [
        {
          "output_type": "stream",
          "text": [
            "Hello World\n"
          ],
          "name": "stdout"
        }
      ]
    },
    {
      "cell_type": "markdown",
      "metadata": {
        "id": "7r7A0Rb0Xv3D"
      },
      "source": [
        "**Assignments**\n",
        "\n",
        "Assign data to variables"
      ]
    },
    {
      "cell_type": "code",
      "metadata": {
        "id": "p9vpDiwhXo7X"
      },
      "source": [
        "number = 10"
      ],
      "execution_count": null,
      "outputs": []
    },
    {
      "cell_type": "code",
      "metadata": {
        "colab": {
          "base_uri": "https://localhost:8080/"
        },
        "id": "O9Ab5RQtX8qF",
        "outputId": "838c641c-4c9d-486b-ffd9-ee53efbe8d63"
      },
      "source": [
        "print(number)"
      ],
      "execution_count": null,
      "outputs": [
        {
          "output_type": "stream",
          "text": [
            "10\n"
          ],
          "name": "stdout"
        }
      ]
    },
    {
      "cell_type": "code",
      "metadata": {
        "id": "NqE3g8qqYAON"
      },
      "source": [
        "number = 1"
      ],
      "execution_count": null,
      "outputs": []
    },
    {
      "cell_type": "code",
      "metadata": {
        "id": "kRK3KyxFYVyH"
      },
      "source": [
        "number += 2"
      ],
      "execution_count": null,
      "outputs": []
    },
    {
      "cell_type": "markdown",
      "metadata": {
        "id": "piiNYlA9YxCu"
      },
      "source": [
        "number = number + 2"
      ]
    },
    {
      "cell_type": "code",
      "metadata": {
        "colab": {
          "base_uri": "https://localhost:8080/"
        },
        "id": "BsoLzX8nYjMp",
        "outputId": "8e61cfe5-60ca-4dc2-d9c4-a8560e1cd45c"
      },
      "source": [
        "print(number)"
      ],
      "execution_count": null,
      "outputs": [
        {
          "output_type": "stream",
          "text": [
            "3\n"
          ],
          "name": "stdout"
        }
      ]
    },
    {
      "cell_type": "markdown",
      "metadata": {
        "id": "2g9JE_YzZkOG"
      },
      "source": [
        "number = number - 3"
      ]
    },
    {
      "cell_type": "code",
      "metadata": {
        "id": "ax0mbtinZWMy"
      },
      "source": [
        "number -= 3"
      ],
      "execution_count": null,
      "outputs": []
    },
    {
      "cell_type": "code",
      "metadata": {
        "colab": {
          "base_uri": "https://localhost:8080/"
        },
        "id": "yyTx_UuMZY8t",
        "outputId": "d102b9b5-4a8e-45d5-edd6-9d6ca2682dfd"
      },
      "source": [
        "print(number)"
      ],
      "execution_count": null,
      "outputs": [
        {
          "output_type": "stream",
          "text": [
            "0\n"
          ],
          "name": "stdout"
        }
      ]
    },
    {
      "cell_type": "code",
      "metadata": {
        "id": "zg_ow67HY-75"
      },
      "source": [
        "def add_numbers(x,y):\n",
        "  z = x + y\n",
        "  return z"
      ],
      "execution_count": null,
      "outputs": []
    },
    {
      "cell_type": "code",
      "metadata": {
        "colab": {
          "base_uri": "https://localhost:8080/"
        },
        "id": "zSmWwKMkZuwc",
        "outputId": "7fe7207e-d150-4194-a382-a86255c9af95"
      },
      "source": [
        "number = 1\n",
        "print(number)\n",
        "number = 3\n",
        "print(number)"
      ],
      "execution_count": null,
      "outputs": [
        {
          "output_type": "stream",
          "text": [
            "1\n",
            "3\n"
          ],
          "name": "stdout"
        }
      ]
    },
    {
      "cell_type": "code",
      "metadata": {
        "colab": {
          "base_uri": "https://localhost:8080/"
        },
        "id": "peRlj89nac-3",
        "outputId": "9ec39814-ef56-4a7b-c89d-2dffcd8fe88d"
      },
      "source": [
        "number = 5\n",
        "number *= 5\n",
        "print(number)"
      ],
      "execution_count": null,
      "outputs": [
        {
          "output_type": "stream",
          "text": [
            "25\n"
          ],
          "name": "stdout"
        }
      ]
    },
    {
      "cell_type": "code",
      "metadata": {
        "colab": {
          "base_uri": "https://localhost:8080/"
        },
        "id": "793ml47NbXJ-",
        "outputId": "da12ad9e-49ed-444e-c416-6923f5e3f4e4"
      },
      "source": [
        "print(type(number))"
      ],
      "execution_count": null,
      "outputs": [
        {
          "output_type": "stream",
          "text": [
            "<class 'int'>\n"
          ],
          "name": "stdout"
        }
      ]
    },
    {
      "cell_type": "code",
      "metadata": {
        "colab": {
          "base_uri": "https://localhost:8080/"
        },
        "id": "W_YcnbeMblsL",
        "outputId": "549365e6-8347-4153-8c26-5c443248bf7c"
      },
      "source": [
        "pi = 3.142\n",
        "print(type(pi))"
      ],
      "execution_count": null,
      "outputs": [
        {
          "output_type": "stream",
          "text": [
            "<class 'float'>\n"
          ],
          "name": "stdout"
        }
      ]
    },
    {
      "cell_type": "code",
      "metadata": {
        "colab": {
          "base_uri": "https://localhost:8080/"
        },
        "id": "RDQqUyFGb404",
        "outputId": "20fa8a34-5165-4564-e764-dfbe37561a92"
      },
      "source": [
        "hannah_age = 22.5\n",
        "print(hannah_age)\n",
        "print(type(hannah_age))"
      ],
      "execution_count": null,
      "outputs": [
        {
          "output_type": "stream",
          "text": [
            "22.5\n",
            "<class 'float'>\n"
          ],
          "name": "stdout"
        }
      ]
    },
    {
      "cell_type": "code",
      "metadata": {
        "colab": {
          "base_uri": "https://localhost:8080/"
        },
        "id": "wA8dPYP3cJXP",
        "outputId": "79181338-51f7-4b62-83da-c588cadf057f"
      },
      "source": [
        "message = 'hello beautiful world'\n",
        "print(type(message))"
      ],
      "execution_count": null,
      "outputs": [
        {
          "output_type": "stream",
          "text": [
            "<class 'str'>\n"
          ],
          "name": "stdout"
        }
      ]
    },
    {
      "cell_type": "code",
      "metadata": {
        "id": "imIAQc36ci6P"
      },
      "source": [
        "students = ['felipe', 'hannah', 'lorvi', 'atul', 'avinash', 'yong fang']"
      ],
      "execution_count": null,
      "outputs": []
    },
    {
      "cell_type": "code",
      "metadata": {
        "colab": {
          "base_uri": "https://localhost:8080/"
        },
        "id": "zu9N5yJKc-wS",
        "outputId": "bfe0ee81-ed96-46a8-bf31-40f26f5c7bf4"
      },
      "source": [
        "print(students)"
      ],
      "execution_count": null,
      "outputs": [
        {
          "output_type": "stream",
          "text": [
            "['felipe', 'hannah', 'lorvi', 'atul', 'avinash', 'yong fang']\n"
          ],
          "name": "stdout"
        }
      ]
    },
    {
      "cell_type": "code",
      "metadata": {
        "colab": {
          "base_uri": "https://localhost:8080/"
        },
        "id": "pWhjiiYzdHz4",
        "outputId": "d7ca59fa-67de-405e-fdb6-a063301dd00a"
      },
      "source": [
        "print(type(students))"
      ],
      "execution_count": null,
      "outputs": [
        {
          "output_type": "stream",
          "text": [
            "<class 'list'>\n"
          ],
          "name": "stdout"
        }
      ]
    },
    {
      "cell_type": "code",
      "metadata": {
        "id": "39kYODEpdQud"
      },
      "source": [
        "students = ('felipe', 'hannah', 'lorvi', 'atul', 'avinash', 'yong fang')"
      ],
      "execution_count": null,
      "outputs": []
    },
    {
      "cell_type": "code",
      "metadata": {
        "colab": {
          "base_uri": "https://localhost:8080/"
        },
        "id": "q6_3tv7YdZsu",
        "outputId": "891f4713-56b1-4e8d-a43b-bbcd372a55b6"
      },
      "source": [
        "print(type(students))"
      ],
      "execution_count": null,
      "outputs": [
        {
          "output_type": "stream",
          "text": [
            "<class 'tuple'>\n"
          ],
          "name": "stdout"
        }
      ]
    },
    {
      "cell_type": "code",
      "metadata": {
        "id": "XlM9AyAfdw3m"
      },
      "source": [
        "students_list = list(('felipe', 'hannah', 'lorvi', 'atul', 'avinash', 'yong fang'))"
      ],
      "execution_count": null,
      "outputs": []
    },
    {
      "cell_type": "code",
      "metadata": {
        "colab": {
          "base_uri": "https://localhost:8080/"
        },
        "id": "FdJY-nAjd8er",
        "outputId": "05652bc8-0915-485e-9f41-d1e4d986a410"
      },
      "source": [
        "print(type(students_list))"
      ],
      "execution_count": null,
      "outputs": [
        {
          "output_type": "stream",
          "text": [
            "<class 'list'>\n"
          ],
          "name": "stdout"
        }
      ]
    },
    {
      "cell_type": "code",
      "metadata": {
        "colab": {
          "base_uri": "https://localhost:8080/"
        },
        "id": "7ck9NbmFq9o8",
        "outputId": "c5835939-4951-497e-9212-de08474fc664"
      },
      "source": [
        "print(students_list[0])"
      ],
      "execution_count": null,
      "outputs": [
        {
          "output_type": "stream",
          "text": [
            "felipe\n"
          ],
          "name": "stdout"
        }
      ]
    },
    {
      "cell_type": "code",
      "metadata": {
        "id": "ijIzQPM_d3fj"
      },
      "source": [
        "students_tuple = tuple(('felipe', 'hannah', 'lorvi', 'atul', 'avinash', 'yong fang'))"
      ],
      "execution_count": null,
      "outputs": []
    },
    {
      "cell_type": "code",
      "metadata": {
        "colab": {
          "base_uri": "https://localhost:8080/"
        },
        "id": "X8H7JbfQeCj8",
        "outputId": "98614a4f-eecb-4045-d8d7-a35c9fb6bc77"
      },
      "source": [
        "print(students_tuple)"
      ],
      "execution_count": null,
      "outputs": [
        {
          "output_type": "stream",
          "text": [
            "('felipe', 'hannah', 'lorvi', 'atul', 'avinash', 'yong fang')\n"
          ],
          "name": "stdout"
        }
      ]
    },
    {
      "cell_type": "code",
      "metadata": {
        "colab": {
          "base_uri": "https://localhost:8080/"
        },
        "id": "drGt0g69eUV9",
        "outputId": "33c83313-a1b2-424c-d23e-a7b8c0dbc701"
      },
      "source": [
        "# create a list with different data\n",
        "my_mixed_list = ['abc', 7, True, 'male']\n",
        "print(my_mixed_list)"
      ],
      "execution_count": null,
      "outputs": [
        {
          "output_type": "stream",
          "text": [
            "['abc', 7, True, 'male']\n"
          ],
          "name": "stdout"
        }
      ]
    },
    {
      "cell_type": "code",
      "metadata": {
        "colab": {
          "base_uri": "https://localhost:8080/"
        },
        "id": "qdgu_BkQeyEF",
        "outputId": "50886aa5-e4c2-4a44-acc7-d0ee38a736c4"
      },
      "source": [
        "my_mixed_list.remove('male')\n",
        "print(my_mixed_list)"
      ],
      "execution_count": null,
      "outputs": [
        {
          "output_type": "stream",
          "text": [
            "['abc', 7, True]\n"
          ],
          "name": "stdout"
        }
      ]
    },
    {
      "cell_type": "code",
      "metadata": {
        "colab": {
          "base_uri": "https://localhost:8080/"
        },
        "id": "8_FkcJgBe_fa",
        "outputId": "98b76467-3e90-4cf1-ce46-e8bff9889f06"
      },
      "source": [
        "students_list = list(('felipe', 'hannah', 'lorvi', 'atul', 'avinash', 'yong fang'))\n",
        "students_list.pop(2)\n",
        "print('using pop:', students_list)"
      ],
      "execution_count": null,
      "outputs": [
        {
          "output_type": "stream",
          "text": [
            "using pop: ['felipe', 'hannah', 'atul', 'avinash', 'yong fang']\n"
          ],
          "name": "stdout"
        }
      ]
    },
    {
      "cell_type": "code",
      "metadata": {
        "colab": {
          "base_uri": "https://localhost:8080/"
        },
        "id": "eHADahDofzyD",
        "outputId": "7db2d55f-271f-4f91-e0dd-efb331f273a7"
      },
      "source": [
        "students_list.append('lorvi')\n",
        "print(students_list)"
      ],
      "execution_count": null,
      "outputs": [
        {
          "output_type": "stream",
          "text": [
            "['felipe', 'hannah', 'atul', 'avinash', 'yong fang', 'lorvi']\n"
          ],
          "name": "stdout"
        }
      ]
    },
    {
      "cell_type": "code",
      "metadata": {
        "id": "n_MpX9vggECr"
      },
      "source": [
        "import numpy as np\n",
        "\n",
        "students_matrix = np.array(['felipe', 'hannah', 'lorvi', 'atul', 'avinash', 'yong fang'])"
      ],
      "execution_count": null,
      "outputs": []
    },
    {
      "cell_type": "code",
      "metadata": {
        "colab": {
          "base_uri": "https://localhost:8080/"
        },
        "id": "K4usPzCgg8b7",
        "outputId": "a79664b7-e163-4dde-c087-25d3b1e736e0"
      },
      "source": [
        "print(type(students_matrix))"
      ],
      "execution_count": null,
      "outputs": [
        {
          "output_type": "stream",
          "text": [
            "<class 'numpy.ndarray'>\n"
          ],
          "name": "stdout"
        }
      ]
    },
    {
      "cell_type": "code",
      "metadata": {
        "colab": {
          "base_uri": "https://localhost:8080/"
        },
        "id": "HngyJXcShCev",
        "outputId": "62877395-8618-4588-8fc5-f3d6b4468d08"
      },
      "source": [
        "print(students_matrix[0])"
      ],
      "execution_count": null,
      "outputs": [
        {
          "output_type": "stream",
          "text": [
            "felipe\n"
          ],
          "name": "stdout"
        }
      ]
    },
    {
      "cell_type": "code",
      "metadata": {
        "colab": {
          "base_uri": "https://localhost:8080/"
        },
        "id": "XwGtfJiFoNHa",
        "outputId": "646ec09b-e9c3-4a52-f3e5-74d0a8f18780"
      },
      "source": [
        "print(students_matrix[3])"
      ],
      "execution_count": null,
      "outputs": [
        {
          "output_type": "stream",
          "text": [
            "atul\n"
          ],
          "name": "stdout"
        }
      ]
    }
  ]
}