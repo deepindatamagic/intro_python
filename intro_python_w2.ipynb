{
  "nbformat": 4,
  "nbformat_minor": 0,
  "metadata": {
    "colab": {
      "name": "intro_python_w2.ipynb",
      "provenance": [],
      "collapsed_sections": [],
      "toc_visible": true
    },
    "kernelspec": {
      "name": "python3",
      "display_name": "Python 3"
    },
    "language_info": {
      "name": "python"
    }
  },
  "cells": [
    {
      "cell_type": "markdown",
      "metadata": {
        "id": "G_Fs6uKXUlg7"
      },
      "source": [
        "# This section is for textual information"
      ]
    },
    {
      "cell_type": "code",
      "metadata": {
        "id": "CrVTbGZksysR"
      },
      "source": [
        "# to create an array we first need to import a NumPy module\n",
        "import numpy as np"
      ],
      "execution_count": null,
      "outputs": []
    },
    {
      "cell_type": "markdown",
      "metadata": {
        "id": "kD_AhTaJJxk2"
      },
      "source": [
        "# Assignment Operators\n",
        "\n",
        "Are used to assign value to a variable (store data)\n",
        "\n",
        "\n",
        "*   Equals (Assign)\n",
        "*   Plus Equals\n",
        "*   Minus Equals\n",
        "*   Multiply Equals"
      ]
    },
    {
      "cell_type": "code",
      "metadata": {
        "id": "-oRJVNKWJ5B7"
      },
      "source": [
        "# assign 10 to the variable x\n",
        "x = 10\n",
        "print(x)\n",
        "\n",
        "# plus equals, y = y + 1\n",
        "y = 1\n",
        "y += 1\n",
        "print(y)\n",
        "\n",
        "# minus equals, z = z - 1\n",
        "z = 1\n",
        "z -= 1\n",
        "print(z)\n",
        "\n",
        "# multiply equals, m = m * 2\n",
        "m = 2\n",
        "m *= 2\n",
        "print(m)"
      ],
      "execution_count": null,
      "outputs": []
    },
    {
      "cell_type": "code",
      "metadata": {
        "colab": {
          "base_uri": "https://localhost:8080/"
        },
        "id": "GbT_f8Yusip-",
        "outputId": "367bb9c3-acd0-4e9e-ced7-eb5464d6c934"
      },
      "source": [
        "# plus equals, y = y + 1\n",
        "y = 1\n",
        "y += 1\n",
        "print(y)"
      ],
      "execution_count": null,
      "outputs": [
        {
          "output_type": "stream",
          "text": [
            "2\n"
          ],
          "name": "stdout"
        }
      ]
    },
    {
      "cell_type": "code",
      "metadata": {
        "colab": {
          "base_uri": "https://localhost:8080/"
        },
        "id": "CIhmSEuLslJ4",
        "outputId": "a93ba9f1-42aa-45da-83ca-1b636414eb12"
      },
      "source": [
        "# minus equals, z = z - 1\n",
        "z = 1\n",
        "z -= 1\n",
        "print(z)"
      ],
      "execution_count": null,
      "outputs": [
        {
          "output_type": "stream",
          "text": [
            "0\n"
          ],
          "name": "stdout"
        }
      ]
    },
    {
      "cell_type": "code",
      "metadata": {
        "colab": {
          "base_uri": "https://localhost:8080/"
        },
        "id": "RtAxzjhIsnkk",
        "outputId": "9dbeea51-da4d-4604-8ef7-a9e0b3194ad8"
      },
      "source": [
        "# multiply equals, m = m * 2\n",
        "m = 2\n",
        "m *= 2\n",
        "print(m)"
      ],
      "execution_count": null,
      "outputs": [
        {
          "output_type": "stream",
          "text": [
            "4\n"
          ],
          "name": "stdout"
        }
      ]
    },
    {
      "cell_type": "markdown",
      "metadata": {
        "id": "ZGlzE_OwJ_9y"
      },
      "source": [
        "# Python Data Types"
      ]
    },
    {
      "cell_type": "markdown",
      "metadata": {
        "id": "sDM1eqBBKOeb"
      },
      "source": [
        "Variables are used to assign data types"
      ]
    },
    {
      "cell_type": "markdown",
      "metadata": {
        "id": "kntGj9b5KF0K"
      },
      "source": [
        "**Numeric**\n",
        "\n",
        "int, float, complex"
      ]
    },
    {
      "cell_type": "code",
      "metadata": {
        "id": "BdjiTvDmKKY3"
      },
      "source": [
        "# an int (integer)\n",
        "x = 10\n",
        "print(type(x))\n",
        "\n",
        "\n",
        "# a float type\n",
        "y = 3.412\n",
        "print(type(y))\n",
        "\n",
        "# a complex type\n",
        "z = 1j\n",
        "print(type(z))"
      ],
      "execution_count": null,
      "outputs": []
    },
    {
      "cell_type": "markdown",
      "metadata": {
        "id": "ItbHgi-_Kp1x"
      },
      "source": [
        "**String**\n",
        "\n",
        "A string literal is surround by a single quotation mark, or a double quotation mark. However, a single quotation mark is consider a good readable style.\n",
        "\n",
        "**Class Object**: str"
      ]
    },
    {
      "cell_type": "code",
      "metadata": {
        "id": "h5G_CqYHKuxV"
      },
      "source": [
        "say_hi = 'hello, world'\n",
        "print(type(say_hi))\n",
        "print(say_hi)"
      ],
      "execution_count": null,
      "outputs": []
    },
    {
      "cell_type": "markdown",
      "metadata": {
        "id": "gnJkL4KtK5VC"
      },
      "source": [
        "**Sequences**\n",
        "\n",
        "These are also called iterable objects i.e. an object that stores data that could be indexed and looped through.\n",
        "\n",
        "**Class Object**:\n",
        "list, tuple, range, arrays, dict (map)"
      ]
    },
    {
      "cell_type": "code",
      "metadata": {
        "id": "kXxAT-J3K_Jv"
      },
      "source": [
        "# list type\n",
        "fruits = ['apples', 'oranges', 'bananas']\n",
        "print(type(fruits))\n",
        "print(fruits)\n",
        "\n",
        "# tuples\n",
        "fruitier = ('apples', 'oranges', 'bananas')\n",
        "print(type(fruitier))\n",
        "print(fruitier)\n",
        "\n",
        "# range\n",
        "x = range(6)\n",
        "print(type(x))\n",
        "print(x)"
      ],
      "execution_count": null,
      "outputs": []
    },
    {
      "cell_type": "markdown",
      "metadata": {
        "id": "ECHH_6SfLAds"
      },
      "source": [
        ""
      ]
    },
    {
      "cell_type": "code",
      "metadata": {
        "id": "gGSkxbvBLCs1"
      },
      "source": [
        "# list explicit style\n",
        "\n",
        "# list(())\n",
        "fruits = list(('apples', 'oranges', 'bananas'))\n",
        "print(fruits)\n",
        "print(type(fruits))"
      ],
      "execution_count": null,
      "outputs": []
    },
    {
      "cell_type": "markdown",
      "metadata": {
        "id": "xF_e6dXdLGrI"
      },
      "source": [
        "**Tuples**\n",
        "Properties:\n",
        "\n",
        "\n",
        "*   Immutable which means: \n",
        "    (1) they can not be copied, (2) they have fixed length once created\n",
        "\n",
        "*   Have structure (recall: lists have order)"
      ]
    },
    {
      "cell_type": "code",
      "metadata": {
        "id": "_MRMGXLXLHA-"
      },
      "source": [
        "# tuples explicit style\n",
        "fruitier = tuple(('apples', 'oranges', 'bananas'))\n",
        "print(type(fruitier))\n",
        "print(fruitier)\n",
        "\n",
        "\n",
        "# this creates a copy of a list\n",
        "new_fruits = list(fruits)\n",
        "print('I am a new copy of fruits', new_fruits)\n",
        "print('Am I fruits?', new_fruits is fruits)\n",
        "\n",
        "# can not copy with tuples\n",
        "new_fruitier = tuple(fruitier)\n",
        "print('Am I still fruitier?', new_fruitier is fruitier)"
      ],
      "execution_count": null,
      "outputs": []
    },
    {
      "cell_type": "markdown",
      "metadata": {
        "id": "_DuxQ42GLoLM"
      },
      "source": [
        "# A note about lists\n",
        "\n",
        "\n",
        "List items are enclosed in square brackets, like this [item1, item2, item3].\n",
        "\n",
        "*   **Lists are ordered** i.e. the items in the list appear in a specific order, meaning if you add new items to a list, the new items will be placed at the end of the list.\n",
        "*   **Lists are mutable**, which means we can add or remove items.\n",
        "*   **List elements do not need to be unique**. Item duplication is possible, as each element has its own distinct indexed location in the list.\n",
        "*   **Elements can be of different data types**, which means that you can combine strings, integers, and objects in the same list."
      ]
    },
    {
      "cell_type": "code",
      "metadata": {
        "id": "w2q7gs9RLs7b"
      },
      "source": [
        "# create a list with different data\n",
        "my_mixed_list = ['abc', 7, True, 'male']\n",
        "print(my_mixed_list)\n",
        "\n",
        "# index location [0,1,2,3]\n",
        "# get the last element\n",
        "# my_mixed_list[3]\n",
        "print(my_mixed_list[3])\n",
        "\n",
        "# change male to female\n",
        "my_mixed_list[3] = 'female'\n",
        "print(my_mixed_list)\n",
        "\n",
        "# append to list\n",
        "my_mixed_list += ['007']\n",
        "print(my_mixed_list)\n",
        "\n",
        "# remove from list\n",
        "my_mixed_list.remove('007')\n",
        "print(my_mixed_list)\n",
        "\n",
        "# remove from list with pop method\n",
        "# needs to index to the element to be removed\n",
        "# pop also returns the element removed\n",
        "my_mixed_list.pop(3)\n",
        "print('using pop', my_mixed_list)\n",
        "\n",
        "# or use Python del operator - notice square brackets\n",
        "del my_mixed_list[2]\n",
        "\n",
        "# using a helper function to append to list\n",
        "my_mixed_list.append('007')\n",
        "print(my_mixed_list)"
      ],
      "execution_count": null,
      "outputs": []
    },
    {
      "cell_type": "markdown",
      "metadata": {
        "id": "5Ibs47D0L_6I"
      },
      "source": [
        "# Arrays\n",
        "\n",
        "Like lists, an array is also a data structure that stores a collection of items. And like lists, arrays are:\n",
        "* ordered\n",
        "* mutable\n",
        "* enclosed in square brackets\n",
        "* store non-unique items"
      ]
    },
    {
      "cell_type": "markdown",
      "metadata": {
        "id": "vF49PiAlMGU0"
      },
      "source": [
        "**NumPy**\n",
        "\n",
        "NumPy is one of Python's most useful libraries: [NumPy](https://numpy.org/)"
      ]
    },
    {
      "cell_type": "markdown",
      "metadata": {
        "id": "p6SJoEAaMMZa"
      },
      "source": [
        "**Import keyword**\n",
        "\n",
        "Is needed to make use of modules and libraries."
      ]
    },
    {
      "cell_type": "code",
      "metadata": {
        "id": "h3k-7cqZMCpD"
      },
      "source": [
        "# to create an array we first need to import a NumPy module\n",
        "import numpy as np\n",
        "\n",
        "# create an array containing numbers\n",
        "# np.array()\n",
        "my_array = np.array([1,3,5,7])\n",
        "print(type(my_array))\n",
        "print(my_array)"
      ],
      "execution_count": null,
      "outputs": []
    },
    {
      "cell_type": "code",
      "metadata": {
        "id": "cPzDX8MFMXGH"
      },
      "source": [
        "# divide my array by 3 - this should divide every element in the array by 3\n",
        "results = my_array / 3\n",
        "print(results)\n",
        "\n",
        "# try to divide a list by 3 - this should give us an error\n",
        "my_list = list((1,3,5,7))\n",
        "answer = my_list / 3\n",
        "print(answer)"
      ],
      "execution_count": null,
      "outputs": []
    },
    {
      "cell_type": "markdown",
      "metadata": {
        "id": "qgXY7sTjMcPV"
      },
      "source": [
        "**Access and change elements stored in Arrays**"
      ]
    },
    {
      "cell_type": "code",
      "metadata": {
        "id": "4QKs2SGkMdV1"
      },
      "source": [
        "# create an array named my_array\n",
        "my_array = np.array([3,6,9,12])"
      ],
      "execution_count": null,
      "outputs": []
    },
    {
      "cell_type": "code",
      "metadata": {
        "colab": {
          "base_uri": "https://localhost:8080/"
        },
        "id": "v4N5kTCmr88d",
        "outputId": "20022a23-09fa-4ebc-e067-d2e7a59a6b3e"
      },
      "source": [
        "# get the first element in the array indexed 0\n",
        "print(my_array[0])"
      ],
      "execution_count": null,
      "outputs": [
        {
          "output_type": "stream",
          "text": [
            "3\n"
          ],
          "name": "stdout"
        }
      ]
    },
    {
      "cell_type": "code",
      "metadata": {
        "colab": {
          "base_uri": "https://localhost:8080/"
        },
        "id": "RqHxp5IHs8Hs",
        "outputId": "f965934a-05ef-4f17-aa2c-86bc9b90d711"
      },
      "source": [
        "print(my_array)"
      ],
      "execution_count": null,
      "outputs": [
        {
          "output_type": "stream",
          "text": [
            "[ 3  6  9 12]\n"
          ],
          "name": "stdout"
        }
      ]
    },
    {
      "cell_type": "code",
      "metadata": {
        "id": "M_GWbhITtyBt"
      },
      "source": [
        "index_to_element = 2"
      ],
      "execution_count": null,
      "outputs": []
    },
    {
      "cell_type": "code",
      "metadata": {
        "id": "fcaMlTCVt2uC"
      },
      "source": [
        "my_array[index_to_element] = 100"
      ],
      "execution_count": null,
      "outputs": []
    },
    {
      "cell_type": "code",
      "metadata": {
        "colab": {
          "base_uri": "https://localhost:8080/"
        },
        "id": "uYrhFJy3t_-Q",
        "outputId": "d24fe329-d254-4ae3-b067-da2fcd742e5e"
      },
      "source": [
        "print(my_array)"
      ],
      "execution_count": null,
      "outputs": [
        {
          "output_type": "stream",
          "text": [
            "[ 18   6 100  12]\n"
          ],
          "name": "stdout"
        }
      ]
    },
    {
      "cell_type": "code",
      "metadata": {
        "id": "H-0yND3VsAXt"
      },
      "source": [
        "# change the first element from 3 to 18\n",
        "my_array[0] = 18"
      ],
      "execution_count": null,
      "outputs": []
    },
    {
      "cell_type": "code",
      "metadata": {
        "colab": {
          "base_uri": "https://localhost:8080/"
        },
        "id": "sAveRDtPtIPs",
        "outputId": "50b326f1-a8e6-41d1-9091-1a7ef4b502bb"
      },
      "source": [
        "print(my_array)"
      ],
      "execution_count": null,
      "outputs": [
        {
          "output_type": "stream",
          "text": [
            "[18  6  9 12]\n"
          ],
          "name": "stdout"
        }
      ]
    },
    {
      "cell_type": "code",
      "metadata": {
        "id": "CuBODkZ7sD6z"
      },
      "source": [
        "# remove element from array\n",
        "# require two arguments to numpy: (array_name, index)\n",
        "index_to_element = 3"
      ],
      "execution_count": null,
      "outputs": []
    },
    {
      "cell_type": "code",
      "metadata": {
        "id": "MkAeMk_EtRzm"
      },
      "source": [
        "my_array = np.delete(my_array, index_to_element)"
      ],
      "execution_count": null,
      "outputs": []
    },
    {
      "cell_type": "code",
      "metadata": {
        "colab": {
          "base_uri": "https://localhost:8080/"
        },
        "id": "SnLNZh5mtWfa",
        "outputId": "ada3cfcf-e13c-467e-8b02-d125e52f01a0"
      },
      "source": [
        "print(my_array)"
      ],
      "execution_count": null,
      "outputs": [
        {
          "output_type": "stream",
          "text": [
            "[18  6  9]\n"
          ],
          "name": "stdout"
        }
      ]
    },
    {
      "cell_type": "code",
      "metadata": {
        "id": "_4J9pjahsHHb"
      },
      "source": [
        "# add or append to array\n",
        "my_array = np.append(my_array, [1,2,4])\n",
        "print(my_array)"
      ],
      "execution_count": null,
      "outputs": []
    },
    {
      "cell_type": "code",
      "metadata": {
        "id": "oxtqf3JasNoS"
      },
      "source": [
        "# insert element at specific location\n",
        "# needs: (array_name, index_of_location, element_to_insert)\n",
        "index_of_location = 1\n",
        "element_to_insert = 15\n",
        "my_array = np.insert(my_array,index_of_location, element_to_insert)\n",
        "print(my_array)"
      ],
      "execution_count": null,
      "outputs": []
    },
    {
      "cell_type": "markdown",
      "metadata": {
        "id": "2egVakOAMwUi"
      },
      "source": [
        "**Map or Dictionary Type**\n",
        "\n",
        "**Class Object**: dict"
      ]
    },
    {
      "cell_type": "code",
      "metadata": {
        "id": "yCxDS19SjXBE"
      },
      "source": [
        "student = {\n",
        "    'name': 'felipe',\n",
        "    'age': 30,\n",
        "    'unit': 'DATA4200'\n",
        "}"
      ],
      "execution_count": null,
      "outputs": []
    },
    {
      "cell_type": "code",
      "metadata": {
        "colab": {
          "base_uri": "https://localhost:8080/"
        },
        "id": "c4I-yN-blrYk",
        "outputId": "0b478a3f-12fd-487d-9d83-ac59c0cbd5a4"
      },
      "source": [
        "print(student)"
      ],
      "execution_count": null,
      "outputs": [
        {
          "output_type": "stream",
          "text": [
            "{'name': 'felipe', 'age': 30, 'unit': 'DATA4200'}\n"
          ],
          "name": "stdout"
        }
      ]
    },
    {
      "cell_type": "code",
      "metadata": {
        "colab": {
          "base_uri": "https://localhost:8080/"
        },
        "id": "rSQgqhbIvUlS",
        "outputId": "364f18d2-a2f7-4704-b21e-4baf8b53f586"
      },
      "source": [
        "print(student['name'])"
      ],
      "execution_count": null,
      "outputs": [
        {
          "output_type": "stream",
          "text": [
            "felipe\n"
          ],
          "name": "stdout"
        }
      ]
    },
    {
      "cell_type": "code",
      "metadata": {
        "colab": {
          "base_uri": "https://localhost:8080/"
        },
        "id": "W9uRvNbivhZe",
        "outputId": "9a5ae1d8-13d5-4b69-e11a-2c76e1f7bb50"
      },
      "source": [
        "print(student['age'])"
      ],
      "execution_count": null,
      "outputs": [
        {
          "output_type": "stream",
          "text": [
            "30\n"
          ],
          "name": "stdout"
        }
      ]
    },
    {
      "cell_type": "code",
      "metadata": {
        "colab": {
          "base_uri": "https://localhost:8080/"
        },
        "id": "SoxiQM9KvtGe",
        "outputId": "c1a78dd1-48c8-4e4e-e484-c969bf04510d"
      },
      "source": [
        "print(student['unit'])"
      ],
      "execution_count": null,
      "outputs": [
        {
          "output_type": "stream",
          "text": [
            "DATA4200\n"
          ],
          "name": "stdout"
        }
      ]
    },
    {
      "cell_type": "markdown",
      "metadata": {
        "id": "BX0FVgDLl0Qf"
      },
      "source": [
        "**Dictionary with Many Elements**"
      ]
    },
    {
      "cell_type": "code",
      "metadata": {
        "id": "UxIGyJcSl4UR"
      },
      "source": [
        "many_students = {1: {'name': 'felipe', 'age': 30, 'unit': 'DATA4200', 'gender': 'male'},\n",
        "          2: {'name': 'hannah', 'age': '22', 'unit': 'DATA4200', 'gender': 'female'}}"
      ],
      "execution_count": null,
      "outputs": []
    },
    {
      "cell_type": "code",
      "metadata": {
        "colab": {
          "base_uri": "https://localhost:8080/"
        },
        "id": "0GDOuWLQwHaY",
        "outputId": "5a3aabb7-b03c-425c-a454-3f1d284f99c1"
      },
      "source": [
        "print(many_students)"
      ],
      "execution_count": null,
      "outputs": [
        {
          "output_type": "stream",
          "text": [
            "{1: {'name': 'felipe', 'age': 30, 'unit': 'DATA4200', 'gender': 'male'}, 2: {'name': 'hannah', 'age': '22', 'unit': 'DATA4200', 'gender': 'female'}}\n"
          ],
          "name": "stdout"
        }
      ]
    },
    {
      "cell_type": "code",
      "metadata": {
        "colab": {
          "base_uri": "https://localhost:8080/"
        },
        "id": "ZDwg8LWYmRPT",
        "outputId": "c25f3b26-edf8-43aa-caf7-c65e8e27d82f"
      },
      "source": [
        "print(many_students[1]['name'])"
      ],
      "execution_count": null,
      "outputs": [
        {
          "output_type": "stream",
          "text": [
            "felipe\n"
          ],
          "name": "stdout"
        }
      ]
    },
    {
      "cell_type": "code",
      "metadata": {
        "id": "8zXMRzRbma-1",
        "colab": {
          "base_uri": "https://localhost:8080/"
        },
        "outputId": "abdcf75e-7eba-4f9d-8c51-a4b7b36f3677"
      },
      "source": [
        "print(many_students[2])"
      ],
      "execution_count": null,
      "outputs": [
        {
          "output_type": "stream",
          "text": [
            "{'name': 'hannah', 'age': '22', 'unit': 'DATA4200', 'gender': 'female'}\n"
          ],
          "name": "stdout"
        }
      ]
    },
    {
      "cell_type": "code",
      "metadata": {
        "colab": {
          "base_uri": "https://localhost:8080/"
        },
        "id": "AgcCvV1jwUBY",
        "outputId": "f6da1c05-c939-4c45-d2e2-3a911499b20f"
      },
      "source": [
        "print(many_students[1])"
      ],
      "execution_count": null,
      "outputs": [
        {
          "output_type": "stream",
          "text": [
            "{'name': 'felipe', 'age': 30, 'unit': 'DATA4200', 'gender': 'male'}\n"
          ],
          "name": "stdout"
        }
      ]
    },
    {
      "cell_type": "code",
      "metadata": {
        "id": "LpNAxEzswf0x"
      },
      "source": [
        "many_many_students = {1: {'name': 'felipe', 'age': 30, 'unit': 'DATA4200', 'gender':''},\n",
        "          2: {'name': 'hannah', 'age': '22', 'unit': 'DATA4200', 'gender':'', 'favourite_car':'tesla'}}"
      ],
      "execution_count": null,
      "outputs": []
    },
    {
      "cell_type": "code",
      "metadata": {
        "colab": {
          "base_uri": "https://localhost:8080/"
        },
        "id": "ZVyBgJMgw166",
        "outputId": "ce20be24-aa0c-4c1a-ea6c-4d77f3c240ca"
      },
      "source": [
        "print(many_many_students[2])"
      ],
      "execution_count": null,
      "outputs": [
        {
          "output_type": "stream",
          "text": [
            "{'name': 'hannah', 'age': '22', 'unit': 'DATA4200', 'gender': '', 'favourite_car': 'tesla'}\n"
          ],
          "name": "stdout"
        }
      ]
    },
    {
      "cell_type": "code",
      "metadata": {
        "id": "yDAH_Rc3w-Yo"
      },
      "source": [
        "print(many_many_students[1]['favourite_car'])"
      ],
      "execution_count": null,
      "outputs": []
    },
    {
      "cell_type": "code",
      "metadata": {
        "id": "q9zkaCuuMzio"
      },
      "source": [
        "# create a storage for a person\n",
        "person = {'Name': 'Mary', 'Age': 33}\n",
        "print(type(person))\n",
        "print(person)\n",
        "\n",
        "# show person name\n",
        "print(person['Name'])\n",
        "\n",
        "# show person age\n",
        "person['Age']\n",
        "\n",
        "# can we get value using index? No because maps or dicts have named keys\n",
        "# print(person[0])\n",
        "\n",
        "# change person's age to 18\n",
        "person['Age'] = 18\n",
        "print(person)"
      ],
      "execution_count": null,
      "outputs": []
    },
    {
      "cell_type": "code",
      "metadata": {
        "id": "AHeK-w69M4Z3"
      },
      "source": [
        "# dict explicit style\n",
        "person = dict(Name = 'Mary', Age = 33)\n",
        "print(type(person))\n",
        "print(person)"
      ],
      "execution_count": null,
      "outputs": []
    },
    {
      "cell_type": "markdown",
      "metadata": {
        "id": "pwqURbCpM8kg"
      },
      "source": [
        "**Boolean**\n",
        "\n",
        "Booleans are True or False\n",
        "\n",
        "When programming the case arises when you want to know if some expression is true or false\n",
        "\n",
        "**Class Object**: bool\n",
        "\n",
        "Bool() will always return True unless:\n",
        "* The object is empty e.g. [], (), {}\n",
        "* The object is False\n",
        "* The object is 0\n",
        "* The object is None"
      ]
    },
    {
      "cell_type": "code",
      "metadata": {
        "id": "dFuRNkcZM94v"
      },
      "source": [
        "# bool type\n",
        "truthly = bool(1)\n",
        "print(type(truthly))\n",
        "print(truthly)\n",
        "\n",
        "truthy = bool()\n",
        "print(truthy)"
      ],
      "execution_count": null,
      "outputs": []
    },
    {
      "cell_type": "code",
      "metadata": {
        "id": "gOOZ_YA4NABd"
      },
      "source": [
        "# when an expression is true or false\n",
        "print(5 > 4)"
      ],
      "execution_count": null,
      "outputs": []
    },
    {
      "cell_type": "code",
      "metadata": {
        "id": "Bx2XHzL2NCOy"
      },
      "source": [
        "print(3 == 3)"
      ],
      "execution_count": null,
      "outputs": []
    },
    {
      "cell_type": "code",
      "metadata": {
        "id": "re0M0v5MNFrp"
      },
      "source": [
        "print(2 < 3)"
      ],
      "execution_count": null,
      "outputs": []
    },
    {
      "cell_type": "code",
      "metadata": {
        "id": "7LoJcI7fNHll"
      },
      "source": [
        "print(2 <= 3)"
      ],
      "execution_count": null,
      "outputs": []
    },
    {
      "cell_type": "code",
      "metadata": {
        "id": "4sTYMloONIWx"
      },
      "source": [
        "print(2 >= 3)"
      ],
      "execution_count": null,
      "outputs": []
    },
    {
      "cell_type": "markdown",
      "metadata": {
        "id": "Orz3RoHEIoFb"
      },
      "source": [
        "# Python Arithmetics\n",
        "\n",
        "Use to perform common math operations\n",
        "\n",
        "*   Addition\n",
        "*   Subtraction\n",
        "*   Multiplication\n",
        "*   Division\n",
        "*   Modulus\n",
        "*   Exponentiation\n",
        "\n"
      ]
    },
    {
      "cell_type": "code",
      "metadata": {
        "id": "mfQarveCHwOS"
      },
      "source": [
        "# add two numbers\n",
        "5 + 3"
      ],
      "execution_count": null,
      "outputs": []
    },
    {
      "cell_type": "code",
      "metadata": {
        "id": "JDzvtkH0I7BL"
      },
      "source": [
        "# add two numbers\n",
        "5 + 3"
      ],
      "execution_count": null,
      "outputs": []
    },
    {
      "cell_type": "code",
      "metadata": {
        "id": "5QsbRj0WI6jM"
      },
      "source": [
        "# subtraction\n",
        "10 - 5"
      ],
      "execution_count": null,
      "outputs": []
    },
    {
      "cell_type": "code",
      "metadata": {
        "id": "LT8EkD3kJGE9"
      },
      "source": [
        "# multiplication\n",
        "2 * 2"
      ],
      "execution_count": null,
      "outputs": []
    },
    {
      "cell_type": "code",
      "metadata": {
        "id": "iK7xL4fEJIBl"
      },
      "source": [
        "# division\n",
        "4 / 2"
      ],
      "execution_count": null,
      "outputs": []
    },
    {
      "cell_type": "code",
      "metadata": {
        "id": "Zipr1oxsJJ9r"
      },
      "source": [
        "# modulus\n",
        "4 % 2"
      ],
      "execution_count": null,
      "outputs": []
    },
    {
      "cell_type": "code",
      "metadata": {
        "id": "Ls9GEAN_JL8m"
      },
      "source": [
        "# exponent or raise to the power\n",
        "2 ** 4"
      ],
      "execution_count": null,
      "outputs": []
    }
  ]
}