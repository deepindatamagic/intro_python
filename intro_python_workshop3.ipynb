{
  "nbformat": 4,
  "nbformat_minor": 0,
  "metadata": {
    "colab": {
      "name": "intro_python_workshop3.ipynb",
      "provenance": [],
      "collapsed_sections": [],
      "mount_file_id": "1rIGFd4oDgZh5MaoK8C0R1h937UkCbOsx",
      "authorship_tag": "ABX9TyNM1p3aRaLcKR3FesJPhwMe"
    },
    "kernelspec": {
      "name": "python3",
      "display_name": "Python 3"
    },
    "language_info": {
      "name": "python"
    }
  },
  "cells": [
    {
      "cell_type": "markdown",
      "metadata": {
        "id": "kQ3dkrKPNuIW"
      },
      "source": [
        "# Python - Data Iterations & Boolean Conditions"
      ]
    },
    {
      "cell_type": "markdown",
      "metadata": {
        "id": "HKUYpEz2NbBn"
      },
      "source": [
        "**Python Conditions and IF-ELSE statements**\n",
        "\n",
        "Used for testing for true or false"
      ]
    },
    {
      "cell_type": "markdown",
      "metadata": {
        "id": "vayeVCYmNhlX"
      },
      "source": [
        "**IF Statement**"
      ]
    },
    {
      "cell_type": "code",
      "metadata": {
        "id": "o9_s2zZsNXQM"
      },
      "source": [
        "a = 1\n",
        "b = 10\n",
        "if b < a:\n",
        "  print('b is greater than a')"
      ],
      "execution_count": null,
      "outputs": []
    },
    {
      "cell_type": "markdown",
      "metadata": {
        "id": "R9lcxzLfNnIc"
      },
      "source": [
        "**IF-ELSE Statement**"
      ]
    },
    {
      "cell_type": "code",
      "metadata": {
        "id": "AQ0boiydNn6K",
        "colab": {
          "base_uri": "https://localhost:8080/"
        },
        "outputId": "d313285c-7692-4268-cfa9-e04a1662fed7"
      },
      "source": [
        "# assign values to variables a and b\n",
        "a = 100\n",
        "b = 100\n",
        "\n",
        "# test for conditions\n",
        "# if b is greater than a\n",
        "if b > a:\n",
        "  print('b is greater than a')\n",
        "\n",
        "# if a and b are equal  \n",
        "elif a == b:  \n",
        "  print('a and b are equal')"
      ],
      "execution_count": null,
      "outputs": [
        {
          "output_type": "stream",
          "text": [
            "a and b are equal\n"
          ],
          "name": "stdout"
        }
      ]
    },
    {
      "cell_type": "markdown",
      "metadata": {
        "id": "g-btNLaiOm3g"
      },
      "source": [
        "**Iterations or Loops**\n",
        "\n",
        "FOR is used to iterate over sequences (list, tuple, array, set or strings)"
      ]
    },
    {
      "cell_type": "code",
      "metadata": {
        "id": "O3UCQyaNOvds",
        "colab": {
          "base_uri": "https://localhost:8080/"
        },
        "outputId": "bebedf8e-0189-4bec-edee-8337fc4f4eaa"
      },
      "source": [
        "# create a list\n",
        "fruits = list(('apples', 'oranges', 'bananas', 'kiwis'))\n",
        "print(fruits)"
      ],
      "execution_count": null,
      "outputs": [
        {
          "output_type": "stream",
          "text": [
            "['apples', 'oranges', 'bananas', 'kiwis']\n"
          ],
          "name": "stdout"
        }
      ]
    },
    {
      "cell_type": "code",
      "metadata": {
        "colab": {
          "base_uri": "https://localhost:8080/"
        },
        "id": "0uIBVHOIyPfj",
        "outputId": "2b0557de-fdd8-494f-f4ab-91546205c4e1"
      },
      "source": [
        "# now iterate through list with fruits\n",
        "# idx is an indexing variable - it is made up\n",
        "for fruit in fruits:\n",
        "  print(fruit)"
      ],
      "execution_count": null,
      "outputs": [
        {
          "output_type": "stream",
          "text": [
            "apples\n",
            "oranges\n",
            "bananas\n",
            "kiwis\n"
          ],
          "name": "stdout"
        }
      ]
    },
    {
      "cell_type": "code",
      "metadata": {
        "colab": {
          "base_uri": "https://localhost:8080/",
          "height": 198
        },
        "id": "D5ORczjXsnIh",
        "outputId": "e4edbd1c-eae9-483e-8292-86792cc20b7e"
      },
      "source": [
        "for idx, fruit in fruits:\n",
        "  print(idx)\n",
        "  print(fruit)"
      ],
      "execution_count": null,
      "outputs": [
        {
          "output_type": "error",
          "ename": "ValueError",
          "evalue": "ignored",
          "traceback": [
            "\u001b[0;31m---------------------------------------------------------------------------\u001b[0m",
            "\u001b[0;31mValueError\u001b[0m                                Traceback (most recent call last)",
            "\u001b[0;32m<ipython-input-5-34b20277ba09>\u001b[0m in \u001b[0;36m<module>\u001b[0;34m()\u001b[0m\n\u001b[0;32m----> 1\u001b[0;31m \u001b[0;32mfor\u001b[0m \u001b[0midx\u001b[0m\u001b[0;34m,\u001b[0m \u001b[0mfruit\u001b[0m \u001b[0;32min\u001b[0m \u001b[0mfruits\u001b[0m\u001b[0;34m:\u001b[0m\u001b[0;34m\u001b[0m\u001b[0;34m\u001b[0m\u001b[0m\n\u001b[0m\u001b[1;32m      2\u001b[0m   \u001b[0mprint\u001b[0m\u001b[0;34m(\u001b[0m\u001b[0midx\u001b[0m\u001b[0;34m)\u001b[0m\u001b[0;34m\u001b[0m\u001b[0;34m\u001b[0m\u001b[0m\n\u001b[1;32m      3\u001b[0m   \u001b[0mprint\u001b[0m\u001b[0;34m(\u001b[0m\u001b[0mfruit\u001b[0m\u001b[0;34m)\u001b[0m\u001b[0;34m\u001b[0m\u001b[0;34m\u001b[0m\u001b[0m\n",
            "\u001b[0;31mValueError\u001b[0m: too many values to unpack (expected 2)"
          ]
        }
      ]
    },
    {
      "cell_type": "code",
      "metadata": {
        "colab": {
          "base_uri": "https://localhost:8080/"
        },
        "id": "FW-cZnNas5_q",
        "outputId": "36db9ba8-bf62-4242-be0c-9e0a2483a086"
      },
      "source": [
        "for idx, fruit in enumerate(fruits):\n",
        "  print(idx)\n",
        "  print(fruit)"
      ],
      "execution_count": null,
      "outputs": [
        {
          "output_type": "stream",
          "text": [
            "0\n",
            "apples\n",
            "1\n",
            "oranges\n",
            "2\n",
            "bananas\n",
            "3\n",
            "kiwis\n"
          ],
          "name": "stdout"
        }
      ]
    },
    {
      "cell_type": "code",
      "metadata": {
        "colab": {
          "base_uri": "https://localhost:8080/"
        },
        "id": "f8SjKBectpF7",
        "outputId": "af12a453-0f90-4fbe-cf22-2b8fc939b7ca"
      },
      "source": [
        "for idx, fruit in enumerate(fruits):\n",
        "  print(idx, fruit)"
      ],
      "execution_count": null,
      "outputs": [
        {
          "output_type": "stream",
          "text": [
            "0 apples\n",
            "1 oranges\n",
            "2 bananas\n",
            "3 kiwis\n"
          ],
          "name": "stdout"
        }
      ]
    },
    {
      "cell_type": "code",
      "metadata": {
        "id": "IP0e7kXqtyv0"
      },
      "source": [
        "number_of_fruits = len(fruits)"
      ],
      "execution_count": null,
      "outputs": []
    },
    {
      "cell_type": "code",
      "metadata": {
        "colab": {
          "base_uri": "https://localhost:8080/"
        },
        "id": "gAExD48ct5lf",
        "outputId": "6cab9b5d-3e97-4f1a-ccbe-5a6e6b7b87e4"
      },
      "source": [
        "print(number_of_fruits)"
      ],
      "execution_count": null,
      "outputs": [
        {
          "output_type": "stream",
          "text": [
            "4\n"
          ],
          "name": "stdout"
        }
      ]
    },
    {
      "cell_type": "code",
      "metadata": {
        "colab": {
          "base_uri": "https://localhost:8080/"
        },
        "id": "qMnBKlCPsLoj",
        "outputId": "0e9aacdf-768a-436c-84af-092661ea1998"
      },
      "source": [
        "students = ['felipe', 'hannah', 'lorvi', 'atul', 'avinash', 'yong fang']\n",
        "print(students)"
      ],
      "execution_count": null,
      "outputs": [
        {
          "output_type": "stream",
          "text": [
            "['felipe', 'hannah', 'lorvi', 'atul', 'avinash', 'yong fang']\n"
          ],
          "name": "stdout"
        }
      ]
    },
    {
      "cell_type": "code",
      "metadata": {
        "id": "gPfwMdpHuHBS"
      },
      "source": [
        "number_of_students = len(students)"
      ],
      "execution_count": null,
      "outputs": []
    },
    {
      "cell_type": "code",
      "metadata": {
        "colab": {
          "base_uri": "https://localhost:8080/"
        },
        "id": "1Rgivz18uMQL",
        "outputId": "277bb208-3732-4ce0-857f-5fddbb1feefc"
      },
      "source": [
        "print(number_of_students)"
      ],
      "execution_count": null,
      "outputs": [
        {
          "output_type": "stream",
          "text": [
            "6\n"
          ],
          "name": "stdout"
        }
      ]
    },
    {
      "cell_type": "code",
      "metadata": {
        "id": "hnQG4-HXvAOq"
      },
      "source": [
        "# while number_of_students <= 6:\n",
        "#   print('Yes')"
      ],
      "execution_count": null,
      "outputs": []
    },
    {
      "cell_type": "code",
      "metadata": {
        "colab": {
          "base_uri": "https://localhost:8080/"
        },
        "id": "9sZHr4smvZQz",
        "outputId": "f83cff90-1063-42d8-b224-7c5add117f57"
      },
      "source": [
        "control = 0\n",
        "while control <= number_of_students:\n",
        "  print('Yes')\n",
        "  # control = control + 1\n",
        "  control += 1"
      ],
      "execution_count": null,
      "outputs": [
        {
          "output_type": "stream",
          "text": [
            "Yes\n",
            "Yes\n",
            "Yes\n",
            "Yes\n",
            "Yes\n",
            "Yes\n",
            "Yes\n"
          ],
          "name": "stdout"
        }
      ]
    },
    {
      "cell_type": "code",
      "metadata": {
        "colab": {
          "base_uri": "https://localhost:8080/"
        },
        "id": "gE7CvMgOwaWC",
        "outputId": "2cfdac14-595b-470b-b964-056138bbddae"
      },
      "source": [
        "idx = 1\n",
        "while idx < len(students):\n",
        "  #print(idx)\n",
        "  print(students[idx], idx)\n",
        "  idx+=1"
      ],
      "execution_count": null,
      "outputs": [
        {
          "output_type": "stream",
          "text": [
            "hannah 1\n",
            "lorvi 2\n",
            "atul 3\n",
            "avinash 4\n",
            "yong fang 5\n"
          ],
          "name": "stdout"
        }
      ]
    },
    {
      "cell_type": "markdown",
      "metadata": {
        "id": "xUQ5jdvrubyl"
      },
      "source": [
        "**while loops**\n",
        "\n",
        "Documentation: https://docs.python.org/3/tutorial/controlflow.html\n"
      ]
    },
    {
      "cell_type": "markdown",
      "metadata": {
        "id": "1J_l4_DPOzty"
      },
      "source": [
        "**FOR and IF-ELSE**"
      ]
    },
    {
      "cell_type": "code",
      "metadata": {
        "id": "5c31xXM-O97u",
        "colab": {
          "base_uri": "https://localhost:8080/"
        },
        "outputId": "b28ef40e-6cf0-439a-a152-b96e82d3cea6"
      },
      "source": [
        "# create a list\n",
        "fruits = list(('apples', 'oranges', 'bananas', 'kiwis'))\n",
        "print(fruits)"
      ],
      "execution_count": null,
      "outputs": [
        {
          "output_type": "stream",
          "text": [
            "['apples', 'oranges', 'bananas', 'kiwis']\n"
          ],
          "name": "stdout"
        }
      ]
    },
    {
      "cell_type": "code",
      "metadata": {
        "colab": {
          "base_uri": "https://localhost:8080/"
        },
        "id": "GGIJvvGCynBc",
        "outputId": "79a49728-5e75-4acf-a652-3565cc2cd85c"
      },
      "source": [
        "# now iterate through list with fruits\n",
        "for idx in fruits:\n",
        "  # look at the index\n",
        "  print(idx)\n",
        "  if idx == 'oranges':\n",
        "    print('Yay!', idx)\n",
        "  elif idx == 'kiwis':\n",
        "    print('Hooray!', idx)\n",
        "  elif:\n",
        "      \n",
        "  else:\n",
        "    print('finally')"
      ],
      "execution_count": null,
      "outputs": [
        {
          "output_type": "stream",
          "text": [
            "apples\n",
            "finally\n",
            "oranges\n",
            "Yay! oranges\n",
            "bananas\n",
            "finally\n",
            "kiwis\n",
            "Hooray! kiwis\n"
          ],
          "name": "stdout"
        }
      ]
    },
    {
      "cell_type": "markdown",
      "metadata": {
        "id": "NLTH9d-FzZ47"
      },
      "source": [
        "**Pandas Library**\n",
        "\n",
        "https://pandas.pydata.org/"
      ]
    },
    {
      "cell_type": "code",
      "metadata": {
        "id": "FutZgy8gzsLK"
      },
      "source": [
        "import pandas as pd"
      ],
      "execution_count": null,
      "outputs": []
    },
    {
      "cell_type": "code",
      "metadata": {
        "id": "I4j5H-dQzRXi"
      },
      "source": [
        "bikes = pd.read_csv('/content/drive/MyDrive/citibike_tripdata_082016.csv')"
      ],
      "execution_count": null,
      "outputs": []
    },
    {
      "cell_type": "code",
      "metadata": {
        "colab": {
          "base_uri": "https://localhost:8080/"
        },
        "id": "VQJyDX400HYx",
        "outputId": "ac1f99b2-4c6e-4f9a-9bfd-7c1a42285a0b"
      },
      "source": [
        "print(bikes)"
      ],
      "execution_count": null,
      "outputs": [
        {
          "output_type": "stream",
          "text": [
            "       Trip Duration        Start Time  ... Birth Year  Gender\n",
            "0                165   2016/08/01 0:09  ...     1968.0       1\n",
            "1                705   2016/08/01 1:45  ...     1978.0       1\n",
            "2                854   2016/08/01 2:22  ...     1988.0       1\n",
            "3                211   2016/08/01 3:05  ...     1986.0       1\n",
            "4                506   2016/08/01 3:25  ...     1986.0       1\n",
            "...              ...               ...  ...        ...     ...\n",
            "34144            421  2016/08/31 23:42  ...     1989.0       1\n",
            "34145            295  2016/08/31 23:44  ...     1980.0       2\n",
            "34146            227  2016/08/31 23:50  ...     1987.0       1\n",
            "34147            312  2016/08/31 23:56  ...     1988.0       1\n",
            "34148            229  2016/08/31 23:59  ...     1958.0       1\n",
            "\n",
            "[34149 rows x 15 columns]\n"
          ],
          "name": "stdout"
        }
      ]
    },
    {
      "cell_type": "code",
      "metadata": {
        "colab": {
          "base_uri": "https://localhost:8080/",
          "height": 323
        },
        "id": "B26hkLoS0qVI",
        "outputId": "c02d39a8-31b6-45ad-dab7-ed9c2f8a905e"
      },
      "source": [
        "bikes.head()"
      ],
      "execution_count": null,
      "outputs": [
        {
          "output_type": "execute_result",
          "data": {
            "text/html": [
              "<div>\n",
              "<style scoped>\n",
              "    .dataframe tbody tr th:only-of-type {\n",
              "        vertical-align: middle;\n",
              "    }\n",
              "\n",
              "    .dataframe tbody tr th {\n",
              "        vertical-align: top;\n",
              "    }\n",
              "\n",
              "    .dataframe thead th {\n",
              "        text-align: right;\n",
              "    }\n",
              "</style>\n",
              "<table border=\"1\" class=\"dataframe\">\n",
              "  <thead>\n",
              "    <tr style=\"text-align: right;\">\n",
              "      <th></th>\n",
              "      <th>Trip Duration</th>\n",
              "      <th>Start Time</th>\n",
              "      <th>Stop Time</th>\n",
              "      <th>Start Station ID</th>\n",
              "      <th>Start Station Name</th>\n",
              "      <th>Start Station Latitude</th>\n",
              "      <th>Start Station Longitude</th>\n",
              "      <th>End Station ID</th>\n",
              "      <th>End Station Name</th>\n",
              "      <th>End Station Latitude</th>\n",
              "      <th>End Station Longitude</th>\n",
              "      <th>Bike ID</th>\n",
              "      <th>User Type</th>\n",
              "      <th>Birth Year</th>\n",
              "      <th>Gender</th>\n",
              "    </tr>\n",
              "  </thead>\n",
              "  <tbody>\n",
              "    <tr>\n",
              "      <th>0</th>\n",
              "      <td>165</td>\n",
              "      <td>2016/08/01 0:09</td>\n",
              "      <td>2016/08/01 0:12</td>\n",
              "      <td>3270</td>\n",
              "      <td>Jersey &amp; 6th St</td>\n",
              "      <td>40.725289</td>\n",
              "      <td>-74.045572</td>\n",
              "      <td>3273</td>\n",
              "      <td>Manila &amp; 1st</td>\n",
              "      <td>40.721651</td>\n",
              "      <td>-74.042884</td>\n",
              "      <td>24679</td>\n",
              "      <td>Subscriber</td>\n",
              "      <td>1968.0</td>\n",
              "      <td>1</td>\n",
              "    </tr>\n",
              "    <tr>\n",
              "      <th>1</th>\n",
              "      <td>705</td>\n",
              "      <td>2016/08/01 1:45</td>\n",
              "      <td>2016/08/01 1:56</td>\n",
              "      <td>3186</td>\n",
              "      <td>Grove St PATH</td>\n",
              "      <td>40.719586</td>\n",
              "      <td>-74.043117</td>\n",
              "      <td>3206</td>\n",
              "      <td>Hilltop</td>\n",
              "      <td>40.731169</td>\n",
              "      <td>-74.057574</td>\n",
              "      <td>24530</td>\n",
              "      <td>Subscriber</td>\n",
              "      <td>1978.0</td>\n",
              "      <td>1</td>\n",
              "    </tr>\n",
              "    <tr>\n",
              "      <th>2</th>\n",
              "      <td>854</td>\n",
              "      <td>2016/08/01 2:22</td>\n",
              "      <td>2016/08/01 2:36</td>\n",
              "      <td>3183</td>\n",
              "      <td>Exchange Place</td>\n",
              "      <td>40.716247</td>\n",
              "      <td>-74.033459</td>\n",
              "      <td>3190</td>\n",
              "      <td>Garfield Ave Station</td>\n",
              "      <td>40.710467</td>\n",
              "      <td>-74.070039</td>\n",
              "      <td>24649</td>\n",
              "      <td>Subscriber</td>\n",
              "      <td>1988.0</td>\n",
              "      <td>1</td>\n",
              "    </tr>\n",
              "    <tr>\n",
              "      <th>3</th>\n",
              "      <td>211</td>\n",
              "      <td>2016/08/01 3:05</td>\n",
              "      <td>2016/08/01 3:08</td>\n",
              "      <td>3194</td>\n",
              "      <td>McGinley Square</td>\n",
              "      <td>40.725340</td>\n",
              "      <td>-74.067622</td>\n",
              "      <td>3195</td>\n",
              "      <td>Sip Ave</td>\n",
              "      <td>40.730743</td>\n",
              "      <td>-74.063784</td>\n",
              "      <td>24624</td>\n",
              "      <td>Subscriber</td>\n",
              "      <td>1986.0</td>\n",
              "      <td>1</td>\n",
              "    </tr>\n",
              "    <tr>\n",
              "      <th>4</th>\n",
              "      <td>506</td>\n",
              "      <td>2016/08/01 3:25</td>\n",
              "      <td>2016/08/01 3:34</td>\n",
              "      <td>3195</td>\n",
              "      <td>Sip Ave</td>\n",
              "      <td>40.730743</td>\n",
              "      <td>-74.063784</td>\n",
              "      <td>3193</td>\n",
              "      <td>Lincoln Park</td>\n",
              "      <td>40.724605</td>\n",
              "      <td>-74.078406</td>\n",
              "      <td>24624</td>\n",
              "      <td>Subscriber</td>\n",
              "      <td>1986.0</td>\n",
              "      <td>1</td>\n",
              "    </tr>\n",
              "  </tbody>\n",
              "</table>\n",
              "</div>"
            ],
            "text/plain": [
              "   Trip Duration       Start Time  ... Birth Year  Gender\n",
              "0            165  2016/08/01 0:09  ...     1968.0       1\n",
              "1            705  2016/08/01 1:45  ...     1978.0       1\n",
              "2            854  2016/08/01 2:22  ...     1988.0       1\n",
              "3            211  2016/08/01 3:05  ...     1986.0       1\n",
              "4            506  2016/08/01 3:25  ...     1986.0       1\n",
              "\n",
              "[5 rows x 15 columns]"
            ]
          },
          "metadata": {
            "tags": []
          },
          "execution_count": 41
        }
      ]
    },
    {
      "cell_type": "code",
      "metadata": {
        "colab": {
          "base_uri": "https://localhost:8080/",
          "height": 323
        },
        "id": "GoWWGaz10yfM",
        "outputId": "fa00df08-b620-44bf-c30e-04c1105d7186"
      },
      "source": [
        "bikes.tail()"
      ],
      "execution_count": null,
      "outputs": [
        {
          "output_type": "execute_result",
          "data": {
            "text/html": [
              "<div>\n",
              "<style scoped>\n",
              "    .dataframe tbody tr th:only-of-type {\n",
              "        vertical-align: middle;\n",
              "    }\n",
              "\n",
              "    .dataframe tbody tr th {\n",
              "        vertical-align: top;\n",
              "    }\n",
              "\n",
              "    .dataframe thead th {\n",
              "        text-align: right;\n",
              "    }\n",
              "</style>\n",
              "<table border=\"1\" class=\"dataframe\">\n",
              "  <thead>\n",
              "    <tr style=\"text-align: right;\">\n",
              "      <th></th>\n",
              "      <th>Trip Duration</th>\n",
              "      <th>Start Time</th>\n",
              "      <th>Stop Time</th>\n",
              "      <th>Start Station ID</th>\n",
              "      <th>Start Station Name</th>\n",
              "      <th>Start Station Latitude</th>\n",
              "      <th>Start Station Longitude</th>\n",
              "      <th>End Station ID</th>\n",
              "      <th>End Station Name</th>\n",
              "      <th>End Station Latitude</th>\n",
              "      <th>End Station Longitude</th>\n",
              "      <th>Bike ID</th>\n",
              "      <th>User Type</th>\n",
              "      <th>Birth Year</th>\n",
              "      <th>Gender</th>\n",
              "    </tr>\n",
              "  </thead>\n",
              "  <tbody>\n",
              "    <tr>\n",
              "      <th>34144</th>\n",
              "      <td>421</td>\n",
              "      <td>2016/08/31 23:42</td>\n",
              "      <td>2016/08/31 23:49</td>\n",
              "      <td>3185</td>\n",
              "      <td>City Hall</td>\n",
              "      <td>40.717733</td>\n",
              "      <td>-74.043845</td>\n",
              "      <td>3192</td>\n",
              "      <td>Liberty Light Rail</td>\n",
              "      <td>40.711242</td>\n",
              "      <td>-74.055701</td>\n",
              "      <td>26238</td>\n",
              "      <td>Subscriber</td>\n",
              "      <td>1989.0</td>\n",
              "      <td>1</td>\n",
              "    </tr>\n",
              "    <tr>\n",
              "      <th>34145</th>\n",
              "      <td>295</td>\n",
              "      <td>2016/08/31 23:44</td>\n",
              "      <td>2016/08/31 23:49</td>\n",
              "      <td>3273</td>\n",
              "      <td>Manila &amp; 1st</td>\n",
              "      <td>40.721651</td>\n",
              "      <td>-74.042884</td>\n",
              "      <td>3278</td>\n",
              "      <td>Monmouth and 6th</td>\n",
              "      <td>40.725685</td>\n",
              "      <td>-74.048790</td>\n",
              "      <td>26173</td>\n",
              "      <td>Subscriber</td>\n",
              "      <td>1980.0</td>\n",
              "      <td>2</td>\n",
              "    </tr>\n",
              "    <tr>\n",
              "      <th>34146</th>\n",
              "      <td>227</td>\n",
              "      <td>2016/08/31 23:50</td>\n",
              "      <td>2016/08/31 23:53</td>\n",
              "      <td>3220</td>\n",
              "      <td>5 Corners Library</td>\n",
              "      <td>40.734961</td>\n",
              "      <td>-74.059503</td>\n",
              "      <td>3195</td>\n",
              "      <td>Sip Ave</td>\n",
              "      <td>40.730743</td>\n",
              "      <td>-74.063784</td>\n",
              "      <td>24638</td>\n",
              "      <td>Subscriber</td>\n",
              "      <td>1987.0</td>\n",
              "      <td>1</td>\n",
              "    </tr>\n",
              "    <tr>\n",
              "      <th>34147</th>\n",
              "      <td>312</td>\n",
              "      <td>2016/08/31 23:56</td>\n",
              "      <td>2016/09/01 0:01</td>\n",
              "      <td>3195</td>\n",
              "      <td>Sip Ave</td>\n",
              "      <td>40.730743</td>\n",
              "      <td>-74.063784</td>\n",
              "      <td>3194</td>\n",
              "      <td>McGinley Square</td>\n",
              "      <td>40.725340</td>\n",
              "      <td>-74.067622</td>\n",
              "      <td>24638</td>\n",
              "      <td>Subscriber</td>\n",
              "      <td>1988.0</td>\n",
              "      <td>1</td>\n",
              "    </tr>\n",
              "    <tr>\n",
              "      <th>34148</th>\n",
              "      <td>229</td>\n",
              "      <td>2016/08/31 23:59</td>\n",
              "      <td>2016/09/01 0:03</td>\n",
              "      <td>3276</td>\n",
              "      <td>Marin Light Rail</td>\n",
              "      <td>40.714584</td>\n",
              "      <td>-74.042817</td>\n",
              "      <td>3214</td>\n",
              "      <td>Essex Light Rail</td>\n",
              "      <td>40.712774</td>\n",
              "      <td>-74.036486</td>\n",
              "      <td>26163</td>\n",
              "      <td>Subscriber</td>\n",
              "      <td>1958.0</td>\n",
              "      <td>1</td>\n",
              "    </tr>\n",
              "  </tbody>\n",
              "</table>\n",
              "</div>"
            ],
            "text/plain": [
              "       Trip Duration        Start Time  ... Birth Year  Gender\n",
              "34144            421  2016/08/31 23:42  ...     1989.0       1\n",
              "34145            295  2016/08/31 23:44  ...     1980.0       2\n",
              "34146            227  2016/08/31 23:50  ...     1987.0       1\n",
              "34147            312  2016/08/31 23:56  ...     1988.0       1\n",
              "34148            229  2016/08/31 23:59  ...     1958.0       1\n",
              "\n",
              "[5 rows x 15 columns]"
            ]
          },
          "metadata": {
            "tags": []
          },
          "execution_count": 42
        }
      ]
    },
    {
      "cell_type": "code",
      "metadata": {
        "colab": {
          "base_uri": "https://localhost:8080/"
        },
        "id": "th5KY1HK07g8",
        "outputId": "abe3aaf6-d115-47d8-fcd8-e954e81514b4"
      },
      "source": [
        "print(bikes.shape)"
      ],
      "execution_count": null,
      "outputs": [
        {
          "output_type": "stream",
          "text": [
            "(34149, 15)\n"
          ],
          "name": "stdout"
        }
      ]
    },
    {
      "cell_type": "code",
      "metadata": {
        "colab": {
          "base_uri": "https://localhost:8080/"
        },
        "id": "Zw2MsDln1PfI",
        "outputId": "09fe506d-31bc-4f8c-8a68-c58923e43696"
      },
      "source": [
        "bikes.info()"
      ],
      "execution_count": null,
      "outputs": [
        {
          "output_type": "stream",
          "text": [
            "<class 'pandas.core.frame.DataFrame'>\n",
            "RangeIndex: 34149 entries, 0 to 34148\n",
            "Data columns (total 15 columns):\n",
            " #   Column                   Non-Null Count  Dtype  \n",
            "---  ------                   --------------  -----  \n",
            " 0   Trip Duration            34149 non-null  int64  \n",
            " 1   Start Time               34149 non-null  object \n",
            " 2   Stop Time                34149 non-null  object \n",
            " 3   Start Station ID         34149 non-null  int64  \n",
            " 4   Start Station Name       34149 non-null  object \n",
            " 5   Start Station Latitude   34149 non-null  float64\n",
            " 6   Start Station Longitude  34149 non-null  float64\n",
            " 7   End Station ID           34149 non-null  int64  \n",
            " 8   End Station Name         34149 non-null  object \n",
            " 9   End Station Latitude     34149 non-null  float64\n",
            " 10  End Station Longitude    34149 non-null  float64\n",
            " 11  Bike ID                  34149 non-null  int64  \n",
            " 12  User Type                34095 non-null  object \n",
            " 13  Birth Year               30717 non-null  float64\n",
            " 14  Gender                   34149 non-null  int64  \n",
            "dtypes: float64(5), int64(5), object(5)\n",
            "memory usage: 3.9+ MB\n"
          ],
          "name": "stdout"
        }
      ]
    },
    {
      "cell_type": "code",
      "metadata": {
        "colab": {
          "base_uri": "https://localhost:8080/",
          "height": 314
        },
        "id": "ISaOzkpz1VqQ",
        "outputId": "fff0bcc0-53a5-4316-9311-2e4865a3ce84"
      },
      "source": [
        "bikes.describe()"
      ],
      "execution_count": null,
      "outputs": [
        {
          "output_type": "execute_result",
          "data": {
            "text/html": [
              "<div>\n",
              "<style scoped>\n",
              "    .dataframe tbody tr th:only-of-type {\n",
              "        vertical-align: middle;\n",
              "    }\n",
              "\n",
              "    .dataframe tbody tr th {\n",
              "        vertical-align: top;\n",
              "    }\n",
              "\n",
              "    .dataframe thead th {\n",
              "        text-align: right;\n",
              "    }\n",
              "</style>\n",
              "<table border=\"1\" class=\"dataframe\">\n",
              "  <thead>\n",
              "    <tr style=\"text-align: right;\">\n",
              "      <th></th>\n",
              "      <th>Trip Duration</th>\n",
              "      <th>Start Station ID</th>\n",
              "      <th>Start Station Latitude</th>\n",
              "      <th>Start Station Longitude</th>\n",
              "      <th>End Station ID</th>\n",
              "      <th>End Station Latitude</th>\n",
              "      <th>End Station Longitude</th>\n",
              "      <th>Bike ID</th>\n",
              "      <th>Birth Year</th>\n",
              "      <th>Gender</th>\n",
              "    </tr>\n",
              "  </thead>\n",
              "  <tbody>\n",
              "    <tr>\n",
              "      <th>count</th>\n",
              "      <td>3.414900e+04</td>\n",
              "      <td>34149.000000</td>\n",
              "      <td>34149.000000</td>\n",
              "      <td>34149.000000</td>\n",
              "      <td>34149.000000</td>\n",
              "      <td>34149.000000</td>\n",
              "      <td>34149.000000</td>\n",
              "      <td>34149.000000</td>\n",
              "      <td>30717.000000</td>\n",
              "      <td>34149.000000</td>\n",
              "    </tr>\n",
              "    <tr>\n",
              "      <th>mean</th>\n",
              "      <td>7.959736e+02</td>\n",
              "      <td>3210.791590</td>\n",
              "      <td>40.722686</td>\n",
              "      <td>-74.045933</td>\n",
              "      <td>3207.845383</td>\n",
              "      <td>40.722268</td>\n",
              "      <td>-74.045515</td>\n",
              "      <td>25262.422384</td>\n",
              "      <td>1979.578833</td>\n",
              "      <td>1.096313</td>\n",
              "    </tr>\n",
              "    <tr>\n",
              "      <th>std</th>\n",
              "      <td>7.507408e+03</td>\n",
              "      <td>31.159689</td>\n",
              "      <td>0.008013</td>\n",
              "      <td>0.011061</td>\n",
              "      <td>59.209229</td>\n",
              "      <td>0.007887</td>\n",
              "      <td>0.011194</td>\n",
              "      <td>852.622300</td>\n",
              "      <td>9.485320</td>\n",
              "      <td>0.543693</td>\n",
              "    </tr>\n",
              "    <tr>\n",
              "      <th>min</th>\n",
              "      <td>6.100000e+01</td>\n",
              "      <td>3183.000000</td>\n",
              "      <td>40.692640</td>\n",
              "      <td>-74.096937</td>\n",
              "      <td>173.000000</td>\n",
              "      <td>40.692640</td>\n",
              "      <td>-74.096937</td>\n",
              "      <td>18268.000000</td>\n",
              "      <td>1934.000000</td>\n",
              "      <td>0.000000</td>\n",
              "    </tr>\n",
              "    <tr>\n",
              "      <th>25%</th>\n",
              "      <td>2.530000e+02</td>\n",
              "      <td>3186.000000</td>\n",
              "      <td>40.716247</td>\n",
              "      <td>-74.050444</td>\n",
              "      <td>3186.000000</td>\n",
              "      <td>40.716247</td>\n",
              "      <td>-74.049968</td>\n",
              "      <td>24525.000000</td>\n",
              "      <td>1975.000000</td>\n",
              "      <td>1.000000</td>\n",
              "    </tr>\n",
              "    <tr>\n",
              "      <th>50%</th>\n",
              "      <td>4.100000e+02</td>\n",
              "      <td>3202.000000</td>\n",
              "      <td>40.721525</td>\n",
              "      <td>-74.043845</td>\n",
              "      <td>3199.000000</td>\n",
              "      <td>40.719586</td>\n",
              "      <td>-74.043117</td>\n",
              "      <td>24684.000000</td>\n",
              "      <td>1982.000000</td>\n",
              "      <td>1.000000</td>\n",
              "    </tr>\n",
              "    <tr>\n",
              "      <th>75%</th>\n",
              "      <td>7.120000e+02</td>\n",
              "      <td>3213.000000</td>\n",
              "      <td>40.727224</td>\n",
              "      <td>-74.038051</td>\n",
              "      <td>3213.000000</td>\n",
              "      <td>40.727224</td>\n",
              "      <td>-74.036486</td>\n",
              "      <td>26220.000000</td>\n",
              "      <td>1986.000000</td>\n",
              "      <td>1.000000</td>\n",
              "    </tr>\n",
              "    <tr>\n",
              "      <th>max</th>\n",
              "      <td>1.258736e+06</td>\n",
              "      <td>3281.000000</td>\n",
              "      <td>40.752559</td>\n",
              "      <td>-74.032108</td>\n",
              "      <td>3426.000000</td>\n",
              "      <td>40.801343</td>\n",
              "      <td>-73.971146</td>\n",
              "      <td>26431.000000</td>\n",
              "      <td>1998.000000</td>\n",
              "      <td>2.000000</td>\n",
              "    </tr>\n",
              "  </tbody>\n",
              "</table>\n",
              "</div>"
            ],
            "text/plain": [
              "       Trip Duration  Start Station ID  ...    Birth Year        Gender\n",
              "count   3.414900e+04      34149.000000  ...  30717.000000  34149.000000\n",
              "mean    7.959736e+02       3210.791590  ...   1979.578833      1.096313\n",
              "std     7.507408e+03         31.159689  ...      9.485320      0.543693\n",
              "min     6.100000e+01       3183.000000  ...   1934.000000      0.000000\n",
              "25%     2.530000e+02       3186.000000  ...   1975.000000      1.000000\n",
              "50%     4.100000e+02       3202.000000  ...   1982.000000      1.000000\n",
              "75%     7.120000e+02       3213.000000  ...   1986.000000      1.000000\n",
              "max     1.258736e+06       3281.000000  ...   1998.000000      2.000000\n",
              "\n",
              "[8 rows x 10 columns]"
            ]
          },
          "metadata": {
            "tags": []
          },
          "execution_count": 49
        }
      ]
    },
    {
      "cell_type": "code",
      "metadata": {
        "colab": {
          "base_uri": "https://localhost:8080/"
        },
        "id": "lBsBWAQk1ijy",
        "outputId": "1cde5618-506f-4d25-d7e6-3991b6c8152d"
      },
      "source": [
        "bikes.columns"
      ],
      "execution_count": null,
      "outputs": [
        {
          "output_type": "execute_result",
          "data": {
            "text/plain": [
              "Index(['Trip Duration', 'Start Time', 'Stop Time', 'Start Station ID',\n",
              "       'Start Station Name', 'Start Station Latitude',\n",
              "       'Start Station Longitude', 'End Station ID', 'End Station Name',\n",
              "       'End Station Latitude', 'End Station Longitude', 'Bike ID', 'User Type',\n",
              "       'Birth Year', 'Gender'],\n",
              "      dtype='object')"
            ]
          },
          "metadata": {
            "tags": []
          },
          "execution_count": 50
        }
      ]
    },
    {
      "cell_type": "code",
      "metadata": {
        "id": "xHLfvsMy1vDa",
        "colab": {
          "base_uri": "https://localhost:8080/"
        },
        "outputId": "4ae420b9-ae1a-4ec6-874d-345e1802f4cb"
      },
      "source": [
        "print(bikes['Trip Duration'])"
      ],
      "execution_count": null,
      "outputs": [
        {
          "output_type": "stream",
          "text": [
            "0        165\n",
            "1        705\n",
            "2        854\n",
            "3        211\n",
            "4        506\n",
            "        ... \n",
            "34144    421\n",
            "34145    295\n",
            "34146    227\n",
            "34147    312\n",
            "34148    229\n",
            "Name: Trip Duration, Length: 34149, dtype: int64\n"
          ],
          "name": "stdout"
        }
      ]
    }
  ]
}