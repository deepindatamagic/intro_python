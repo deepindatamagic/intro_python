{
  "nbformat": 4,
  "nbformat_minor": 0,
  "metadata": {
    "colab": {
      "name": "intro_python_w1.ipynb",
      "provenance": []
    },
    "kernelspec": {
      "name": "python3",
      "display_name": "Python 3"
    },
    "language_info": {
      "name": "python"
    }
  },
  "cells": [
    {
      "cell_type": "markdown",
      "metadata": {
        "id": "4tMD3gAXbysz"
      },
      "source": [
        "# Our First Python Program"
      ]
    },
    {
      "cell_type": "markdown",
      "metadata": {
        "id": "y02MzfZMcET7"
      },
      "source": [
        "**Write Say Hello World**"
      ]
    },
    {
      "cell_type": "code",
      "metadata": {
        "colab": {
          "base_uri": "https://localhost:8080/"
        },
        "id": "-TbCwJj7cDUs",
        "outputId": "ad0bc34e-1adf-487b-bacf-5545f2de5d00"
      },
      "source": [
        "# print hello world\n",
        "print('Hello, World')"
      ],
      "execution_count": null,
      "outputs": [
        {
          "output_type": "stream",
          "text": [
            "Hello, World\n"
          ],
          "name": "stdout"
        }
      ]
    },
    {
      "cell_type": "code",
      "metadata": {
        "id": "s68irFL7bl0G"
      },
      "source": [
        "# store hello world in variable message\n",
        "message = 'Hello, World'"
      ],
      "execution_count": null,
      "outputs": []
    },
    {
      "cell_type": "code",
      "metadata": {
        "colab": {
          "base_uri": "https://localhost:8080/"
        },
        "id": "gqCHK8gBdjnf",
        "outputId": "80bbafa9-282c-4c93-d285-eb4c919bc413"
      },
      "source": [
        "# print message\n",
        "print(message)"
      ],
      "execution_count": null,
      "outputs": [
        {
          "output_type": "stream",
          "text": [
            "Hello, World\n"
          ],
          "name": "stdout"
        }
      ]
    },
    {
      "cell_type": "code",
      "metadata": {
        "id": "OlNBOPn0eGhE"
      },
      "source": [
        "# assign new data to variable message\n",
        "message = 'I rule the world'"
      ],
      "execution_count": null,
      "outputs": []
    },
    {
      "cell_type": "code",
      "metadata": {
        "colab": {
          "base_uri": "https://localhost:8080/"
        },
        "id": "Qtik4XtiePQd",
        "outputId": "8cd829d9-3a91-48db-8781-a44ebcdac7ee"
      },
      "source": [
        "print(message)"
      ],
      "execution_count": null,
      "outputs": [
        {
          "output_type": "stream",
          "text": [
            "I rule the world\n"
          ],
          "name": "stdout"
        }
      ]
    },
    {
      "cell_type": "markdown",
      "metadata": {
        "id": "tGZGhWoMe_5i"
      },
      "source": [
        "**Two variables for two different data of the same data types (strings)**"
      ]
    },
    {
      "cell_type": "code",
      "metadata": {
        "id": "qhjXLbANewiU"
      },
      "source": [
        "greetings = 'Hello, World'\n",
        "message = 'I rule the world'"
      ],
      "execution_count": null,
      "outputs": []
    },
    {
      "cell_type": "code",
      "metadata": {
        "colab": {
          "base_uri": "https://localhost:8080/"
        },
        "id": "GIyPc8PYe7Fu",
        "outputId": "ba27514c-7494-4fd0-da50-24e671eae947"
      },
      "source": [
        "print(greetings)"
      ],
      "execution_count": null,
      "outputs": [
        {
          "output_type": "stream",
          "text": [
            "Hello, World\n"
          ],
          "name": "stdout"
        }
      ]
    },
    {
      "cell_type": "code",
      "metadata": {
        "colab": {
          "base_uri": "https://localhost:8080/"
        },
        "id": "S3UA6NwVe99x",
        "outputId": "16556780-5363-4cf4-f133-38a9e8e9e77e"
      },
      "source": [
        "print(message)"
      ],
      "execution_count": null,
      "outputs": [
        {
          "output_type": "stream",
          "text": [
            "I rule the world\n"
          ],
          "name": "stdout"
        }
      ]
    }
  ]
}